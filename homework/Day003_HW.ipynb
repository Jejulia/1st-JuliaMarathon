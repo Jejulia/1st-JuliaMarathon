{
 "cells": [
  {
   "cell_type": "code",
   "execution_count": 1,
   "metadata": {},
   "outputs": [],
   "source": [
    "using Pkg"
   ]
  },
  {
   "cell_type": "code",
   "execution_count": 2,
   "metadata": {
    "scrolled": false
   },
   "outputs": [
    {
     "name": "stdout",
     "output_type": "stream",
     "text": [
      "\u001b[32m\u001b[1m  Updating\u001b[22m\u001b[39m registry at `C:\\Users\\sciph\\.julia\\registries\\General`\n",
      "\u001b[32m\u001b[1m  Updating\u001b[22m\u001b[39m git-repo `https://github.com/JuliaRegistries/General.git`\n",
      "\u001b[2K\u001b[36m\u001b[1mFetching:\u001b[22m\u001b[39m [========================================>]  100.0 %.0 %.7 %                        ]  38.0 %]  38.3 %>                 ]  56.4 % %\u001b[?25h\u001b[32m\u001b[1m Resolving\u001b[22m\u001b[39m package versions...\n"
     ]
    },
    {
     "ename": "Pkg.Types.ResolverError",
     "evalue": "Unsatisfiable requirements detected for package Tables [bd369af6]:\n Tables [bd369af6] log:\n ├─possible versions are: [0.1.0-0.1.15, 0.1.17-0.1.19, 0.2.0-0.2.11, 1.0.0-1.0.3] or uninstalled\n ├─restricted by compatibility requirements with DataFramesMeta [1313f7d8] to versions: [0.2.3-0.2.11, 1.0.0-1.0.3]\n │ └─DataFramesMeta [1313f7d8] log:\n │   ├─possible versions are: [0.4.0-0.4.1, 0.5.0] or uninstalled\n │   └─restricted to versions 0.5.0 by an explicit requirement, leaving only versions 0.5.0\n ├─restricted by compatibility requirements with DataFrames [a93c6f00] to versions: 0.2.3-0.2.11\n │ └─DataFrames [a93c6f00] log:\n │   ├─possible versions are: [0.11.7, 0.12.0, 0.13.0-0.13.1, 0.14.0-0.14.1, 0.15.0-0.15.2, 0.16.0, 0.17.0-0.17.1, 0.18.0-0.18.4, 0.19.0-0.19.4, 0.20.0-0.20.2] or uninstalled\n │   └─restricted to versions 0.20.0 by an explicit requirement, leaving only versions 0.20.0\n ├─restricted by compatibility requirements with StatsModels [3eaba693] to versions: 0.2.11\n │ └─StatsModels [3eaba693] log:\n │   ├─possible versions are: [0.3.0-0.3.1, 0.4.0, 0.5.0, 0.6.0-0.6.10] or uninstalled\n │   └─restricted to versions 0.6.9 by an explicit requirement, leaving only versions 0.6.9\n └─restricted by compatibility requirements with CSV [336ed68f] to versions: 1.0.0-1.0.3 — no versions left\n   └─CSV [336ed68f] log:\n     ├─possible versions are: [0.3.0-0.3.1, 0.4.0-0.4.3, 0.5.0-0.5.26] or uninstalled\n     └─restricted to versions 0.5.26 by an explicit requirement, leaving only versions 0.5.26",
     "output_type": "error",
     "traceback": [
      "Unsatisfiable requirements detected for package Tables [bd369af6]:\n Tables [bd369af6] log:\n ├─possible versions are: [0.1.0-0.1.15, 0.1.17-0.1.19, 0.2.0-0.2.11, 1.0.0-1.0.3] or uninstalled\n ├─restricted by compatibility requirements with DataFramesMeta [1313f7d8] to versions: [0.2.3-0.2.11, 1.0.0-1.0.3]\n │ └─DataFramesMeta [1313f7d8] log:\n │   ├─possible versions are: [0.4.0-0.4.1, 0.5.0] or uninstalled\n │   └─restricted to versions 0.5.0 by an explicit requirement, leaving only versions 0.5.0\n ├─restricted by compatibility requirements with DataFrames [a93c6f00] to versions: 0.2.3-0.2.11\n │ └─DataFrames [a93c6f00] log:\n │   ├─possible versions are: [0.11.7, 0.12.0, 0.13.0-0.13.1, 0.14.0-0.14.1, 0.15.0-0.15.2, 0.16.0, 0.17.0-0.17.1, 0.18.0-0.18.4, 0.19.0-0.19.4, 0.20.0-0.20.2] or uninstalled\n │   └─restricted to versions 0.20.0 by an explicit requirement, leaving only versions 0.20.0\n ├─restricted by compatibility requirements with StatsModels [3eaba693] to versions: 0.2.11\n │ └─StatsModels [3eaba693] log:\n │   ├─possible versions are: [0.3.0-0.3.1, 0.4.0, 0.5.0, 0.6.0-0.6.10] or uninstalled\n │   └─restricted to versions 0.6.9 by an explicit requirement, leaving only versions 0.6.9\n └─restricted by compatibility requirements with CSV [336ed68f] to versions: 1.0.0-1.0.3 — no versions left\n   └─CSV [336ed68f] log:\n     ├─possible versions are: [0.3.0-0.3.1, 0.4.0-0.4.3, 0.5.0-0.5.26] or uninstalled\n     └─restricted to versions 0.5.26 by an explicit requirement, leaving only versions 0.5.26",
      "",
      "Stacktrace:",
      " [1] #propagate_constraints!#61(::Bool, ::typeof(Pkg.GraphType.propagate_constraints!), ::Pkg.GraphType.Graph, ::Set{Int64}) at C:\\cygwin\\home\\Administrator\\buildbot\\worker\\package_win64\\build\\usr\\share\\julia\\stdlib\\v1.2\\Pkg\\src\\GraphType.jl:1007",
      " [2] propagate_constraints! at C:\\cygwin\\home\\Administrator\\buildbot\\worker\\package_win64\\build\\usr\\share\\julia\\stdlib\\v1.2\\Pkg\\src\\GraphType.jl:948 [inlined]",
      " [3] #simplify_graph!#121(::Bool, ::typeof(Pkg.GraphType.simplify_graph!), ::Pkg.GraphType.Graph, ::Set{Int64}) at C:\\cygwin\\home\\Administrator\\buildbot\\worker\\package_win64\\build\\usr\\share\\julia\\stdlib\\v1.2\\Pkg\\src\\GraphType.jl:1462",
      " [4] simplify_graph! at C:\\cygwin\\home\\Administrator\\buildbot\\worker\\package_win64\\build\\usr\\share\\julia\\stdlib\\v1.2\\Pkg\\src\\GraphType.jl:1462 [inlined] (repeats 2 times)",
      " [5] resolve_versions!(::Pkg.Types.Context, ::Array{Pkg.Types.PackageSpec,1}) at C:\\cygwin\\home\\Administrator\\buildbot\\worker\\package_win64\\build\\usr\\share\\julia\\stdlib\\v1.2\\Pkg\\src\\Operations.jl:317",
      " [6] #add#100(::Bool, ::typeof(Pkg.Operations.add), ::Pkg.Types.Context, ::Array{Pkg.Types.PackageSpec,1}, ::Array{Base.UUID,1}) at C:\\cygwin\\home\\Administrator\\buildbot\\worker\\package_win64\\build\\usr\\share\\julia\\stdlib\\v1.2\\Pkg\\src\\Operations.jl:962",
      " [7] #add at .\\none:0 [inlined]",
      " [8] #add#25(::Bool, ::Base.Iterators.Pairs{Union{},Union{},Tuple{},NamedTuple{(),Tuple{}}}, ::typeof(Pkg.API.add), ::Pkg.Types.Context, ::Array{Pkg.Types.PackageSpec,1}) at C:\\cygwin\\home\\Administrator\\buildbot\\worker\\package_win64\\build\\usr\\share\\julia\\stdlib\\v1.2\\Pkg\\src\\API.jl:99",
      " [9] add at C:\\cygwin\\home\\Administrator\\buildbot\\worker\\package_win64\\build\\usr\\share\\julia\\stdlib\\v1.2\\Pkg\\src\\API.jl:69 [inlined]",
      " [10] #add#24 at C:\\cygwin\\home\\Administrator\\buildbot\\worker\\package_win64\\build\\usr\\share\\julia\\stdlib\\v1.2\\Pkg\\src\\API.jl:67 [inlined]",
      " [11] add at C:\\cygwin\\home\\Administrator\\buildbot\\worker\\package_win64\\build\\usr\\share\\julia\\stdlib\\v1.2\\Pkg\\src\\API.jl:67 [inlined]",
      " [12] #add#20 at C:\\cygwin\\home\\Administrator\\buildbot\\worker\\package_win64\\build\\usr\\share\\julia\\stdlib\\v1.2\\Pkg\\src\\API.jl:64 [inlined]",
      " [13] add(::Pkg.Types.PackageSpec) at C:\\cygwin\\home\\Administrator\\buildbot\\worker\\package_win64\\build\\usr\\share\\julia\\stdlib\\v1.2\\Pkg\\src\\API.jl:64",
      " [14] top-level scope at In[2]:1"
     ]
    }
   ],
   "source": [
    "Pkg.add(PackageSpec(name=\"CSV\", version=\"0.5.26\"))"
   ]
  },
  {
   "cell_type": "code",
   "execution_count": 6,
   "metadata": {},
   "outputs": [
    {
     "name": "stdout",
     "output_type": "stream",
     "text": [
      "\u001b[32m\u001b[1m  Updating\u001b[22m\u001b[39m registry at `C:\\Users\\sciph\\.julia\\registries\\General`\n",
      "\u001b[32m\u001b[1m  Updating\u001b[22m\u001b[39m git-repo `https://github.com/JuliaRegistries/General.git`\n",
      "\u001b[?25l\u001b[2K\u001b[?25h\u001b[32m\u001b[1m Resolving\u001b[22m\u001b[39m package versions...\n",
      "\u001b[32m\u001b[1m  Updating\u001b[22m\u001b[39m `C:\\Users\\sciph\\.julia\\environments\\v1.2\\Project.toml`\n",
      "\u001b[90m [no changes]\u001b[39m\n",
      "\u001b[32m\u001b[1m  Updating\u001b[22m\u001b[39m `C:\\Users\\sciph\\.julia\\environments\\v1.2\\Manifest.toml`\n",
      "\u001b[90m [no changes]\u001b[39m\n"
     ]
    }
   ],
   "source": [
    "Pkg.update(\"CSV\")"
   ]
  },
  {
   "cell_type": "code",
   "execution_count": 7,
   "metadata": {},
   "outputs": [
    {
     "name": "stdout",
     "output_type": "stream",
     "text": [
      "\u001b[32m\u001b[1m    Status\u001b[22m\u001b[39m `C:\\Users\\sciph\\.julia\\environments\\v1.2\\Project.toml`\n",
      " \u001b[90m [336ed68f]\u001b[39m\u001b[37m CSV v0.5.23\u001b[39m\n"
     ]
    }
   ],
   "source": [
    "Pkg.status(\"CSV\")"
   ]
  },
  {
   "cell_type": "code",
   "execution_count": 8,
   "metadata": {},
   "outputs": [
    {
     "data": {
      "text/plain": [
       "Dict{String,Union{Nothing, VersionNumber}} with 87 entries:\n",
       "  \"Interact\"               => v\"0.10.3\"\n",
       "  \"ForwardDiff\"            => v\"0.10.9\"\n",
       "  \"ParameterizedFunctions\" => v\"4.2.1\"\n",
       "  \"StatsKit\"               => v\"0.3.0\"\n",
       "  \"Juno\"                   => v\"0.7.2\"\n",
       "  \"BayesOpt\"               => v\"0.1.0\"\n",
       "  \"TableReader\"            => v\"0.4.0\"\n",
       "  \"NPZ\"                    => v\"0.4.0\"\n",
       "  \"DataStructures\"         => v\"0.17.10\"\n",
       "  \"CuArrays\"               => v\"1.6.0\"\n",
       "  \"Latexify\"               => v\"0.13.0\"\n",
       "  \"Calculus\"               => v\"0.5.1\"\n",
       "  \"GZip\"                   => v\"0.5.1\"\n",
       "  \"Lint\"                   => v\"0.0.0\"\n",
       "  \"TaylorSeries\"           => v\"0.10.3\"\n",
       "  \"IntervalArithmetic\"     => v\"0.16.6\"\n",
       "  \"Zygote\"                 => v\"0.4.8\"\n",
       "  \"DataFrames\"             => v\"0.20.0\"\n",
       "  \"SpecialFunctions\"       => v\"0.8.0\"\n",
       "  \"Turing\"                 => v\"0.7.4\"\n",
       "  \"PlotlyJS\"               => v\"0.13.1\"\n",
       "  \"GraphRecipes\"           => v\"0.5.1\"\n",
       "  \"StatsModels\"            => v\"0.6.9\"\n",
       "  \"BayesianOptimization\"   => v\"0.2.2\"\n",
       "  \"DualNumbers\"            => v\"0.6.2\"\n",
       "  ⋮                        => ⋮"
      ]
     },
     "execution_count": 8,
     "metadata": {},
     "output_type": "execute_result"
    }
   ],
   "source": [
    "Pkg.installed()"
   ]
  },
  {
   "cell_type": "code",
   "execution_count": null,
   "metadata": {},
   "outputs": [],
   "source": []
  }
 ],
 "metadata": {
  "kernelspec": {
   "display_name": "Julia 1.2.0",
   "language": "julia",
   "name": "julia-1.2"
  },
  "language_info": {
   "file_extension": ".jl",
   "mimetype": "application/julia",
   "name": "julia",
   "version": "1.2.0"
  }
 },
 "nbformat": 4,
 "nbformat_minor": 4
}
