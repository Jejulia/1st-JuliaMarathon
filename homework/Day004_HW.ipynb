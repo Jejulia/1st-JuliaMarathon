{
 "cells": [
  {
   "cell_type": "markdown",
   "metadata": {},
   "source": [
    "# Julia 數值系統介紹\n",
    "\n",
    "## Day 004 作業\n",
    "\n",
    "今天的內容提到整數及浮點數型別之最小值和最大值：\n",
    "\n",
    "|是否有正負號|型別|<div style=\"width:120px\">最大值</div>|<div style=\"width:120px\">最小值</div>|\n",
    "|---|---|---|---|\n",
    "|有|Int128, Int64, Int32, Int16, Int8|$2^{位元數-1}-1$|$-2^{位元數-1}$|\n",
    "|無|UInt128, UInt64, UInt32, UInt16, UInt8|$2^{位元數}-1$|$0$|\n",
    "\n",
    "|型別|最小值|最大值|\n",
    "|---|---|---|\n",
    "|`Float64`|-Inf|Inf|\n",
    "|`Float32`|-Inf 或 -Inf32|Inf 或 Inf32|\n",
    "|`Float16`|-Inf 或 -Inf16|Inf 或 Inf16|\n",
    "\n",
    "### 作業：範例程式示範了 Int64 及 Float64 的最小值和最大值，作業請列出並觀察其他整數及浮點數型別的最小值和最大值。"
   ]
  },
  {
   "cell_type": "markdown",
   "metadata": {},
   "source": [
    "呼叫 `typemin()` 及 `typemax()` 函式得到各型別的最小值和最大值。\n",
    "\n",
    "列出 Int128, Int32, Int16, Int8, UInt128, UInt64, UInt32, UInt16, UInt8 整數型別的最小值及最大值"
   ]
  },
  {
   "cell_type": "code",
   "execution_count": 8,
   "metadata": {},
   "outputs": [
    {
     "name": "stdout",
     "output_type": "stream",
     "text": [
      "Maximum and minimum of  Int128 are  170141183460469231731687303715884105727 and -170141183460469231731687303715884105728\n",
      "Maximum and minimum of   Int32 are                               2147483647 and                              -2147483648\n",
      "Maximum and minimum of   Int16 are                                    32767 and                                   -32768\n",
      "Maximum and minimum of    Int8 are                                      127 and                                     -128\n",
      "Maximum and minimum of UInt128 are  340282366920938463463374607431768211455 and                                        0\n",
      "Maximum and minimum of  UInt64 are                     18446744073709551615 and                                        0\n",
      "Maximum and minimum of  UInt32 are                               4294967295 and                                        0\n",
      "Maximum and minimum of  UInt16 are                                    65535 and                                        0\n",
      "Maximum and minimum of   UInt8 are                                      255 and                                        0\n"
     ]
    }
   ],
   "source": [
    "for tp in [Int128, Int32, Int16, Int8, UInt128, UInt64, UInt32, UInt16, UInt8]\n",
    "    println(\"Maximum and minimum of $(lpad(tp,7)) are $(lpad(typemax(tp),40)) and $(lpad(typemin(tp),40))\")\n",
    "end"
   ]
  },
  {
   "cell_type": "markdown",
   "metadata": {},
   "source": [
    "列出 Float32, Float16 浮點數型別的最小和最大值"
   ]
  },
  {
   "cell_type": "code",
   "execution_count": 11,
   "metadata": {},
   "outputs": [
    {
     "name": "stdout",
     "output_type": "stream",
     "text": [
      "Maximum and minimum of Float32 are   Inf and  -Inf\n",
      "Maximum and minimum of Float16 are   Inf and  -Inf\n"
     ]
    }
   ],
   "source": [
    "for tp in [Float32, Float16]\n",
    "    println(\"Maximum and minimum of $(lpad(tp,7)) are $(lpad(typemax(tp),5)) and $(lpad(typemin(tp),5))\")\n",
    "end"
   ]
  },
  {
   "cell_type": "code",
   "execution_count": null,
   "metadata": {},
   "outputs": [],
   "source": []
  }
 ],
 "metadata": {
  "@webio": {
   "lastCommId": null,
   "lastKernelId": null
  },
  "kernelspec": {
   "display_name": "Julia 1.2.0",
   "language": "julia",
   "name": "julia-1.2"
  },
  "language_info": {
   "file_extension": ".jl",
   "mimetype": "application/julia",
   "name": "julia",
   "version": "1.2.0"
  }
 },
 "nbformat": 4,
 "nbformat_minor": 4
}
