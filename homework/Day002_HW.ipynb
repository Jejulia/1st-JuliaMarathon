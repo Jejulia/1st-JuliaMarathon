{
 "cells": [
  {
   "cell_type": "markdown",
   "metadata": {},
   "source": [
    "# 1. Markdown cell\n",
    "\n",
    "## 1.1 Inline mode\n",
    "```\n",
    "$f(x)=tanh(x)= \\frac{e^x-e^{-x}}{e^x+e^{-x}}$\n",
    "```\n",
    "Hyperbolic tangent, $f(x)=\\tanh(x)= \\frac{e^x-e^{-x}}{e^x+e^{-x}}\\,$, is one of the six hyperbolic function\n",
    "## 1.2 block mode\n",
    "```\n",
    "$$f(x)=\\tanh(x)=\\frac{e^x-e^{-x}}{e^x+e^{-x}}$$\n",
    "```\n",
    "$$f(x)=\\tanh(x)=\\frac{e^x-e^{-x}}{e^x+e^{-x}}$$\n",
    "```\n",
    "\\begin{equation}\n",
    "f(x)=\\tanh(x)=\\frac{e^x-e^{-x}}{e^x+e^{-x}}\n",
    "\\end{equation}\n",
    "```\n",
    "\\begin{equation}\n",
    "f(x)=\\tanh(x)=\\frac{e^x-e^{-x}}{e^x+e^{-x}}\n",
    "\\end{equation}\n",
    "```\n",
    "\\begin{align}\n",
    "f(x)=\\tanh(x)=\\frac{e^x-e^{-x}}{e^x+e^{-x}}\n",
    "\\end{align}\n",
    "```\n",
    "\\begin{align}\n",
    "f(x)=\\tanh(x)=\\frac{e^x-e^{-x}}{e^x+e^{-x}}\n",
    "\\end{align}"
   ]
  },
  {
   "cell_type": "markdown",
   "metadata": {},
   "source": [
    "# 2. Code cell"
   ]
  },
  {
   "cell_type": "code",
   "execution_count": 1,
   "metadata": {},
   "outputs": [
    {
     "data": {
      "text/latex": [
       "\\begin{equation}\n",
       "f(x)=\\tanh(x)=\\frac{e^x-e^{-x}}{e^x+e^{-x}}\n",
       "\\end{equation}\n"
      ]
     },
     "metadata": {},
     "output_type": "display_data"
    }
   ],
   "source": [
    "display(\"text/latex\", \"\"\"\n",
    "\\\\begin{equation}\n",
    "f(x)=\\\\tanh(x)=\\\\frac{e^x-e^{-x}}{e^x+e^{-x}}\n",
    "\\\\end{equation}\n",
    "\"\"\")"
   ]
  },
  {
   "cell_type": "code",
   "execution_count": 2,
   "metadata": {},
   "outputs": [
    {
     "data": {
      "text/latex": [
       "\\begin{align}\n",
       "f(x)=\\tanh(x)=\\frac{e^x-e^{-x}}{e^x+e^{-x}}\n",
       "\\end{align}\n"
      ]
     },
     "metadata": {},
     "output_type": "display_data"
    }
   ],
   "source": [
    "display(\"text/latex\", \"\"\"\n",
    "\\\\begin{align}\n",
    "f(x)=\\\\tanh(x)=\\\\frac{e^x-e^{-x}}{e^x+e^{-x}}\n",
    "\\\\end{align}\n",
    "\"\"\")"
   ]
  },
  {
   "cell_type": "code",
   "execution_count": null,
   "metadata": {},
   "outputs": [],
   "source": []
  }
 ],
 "metadata": {
  "kernelspec": {
   "display_name": "Julia 1.2.0",
   "language": "julia",
   "name": "julia-1.2"
  },
  "language_info": {
   "file_extension": ".jl",
   "mimetype": "application/julia",
   "name": "julia",
   "version": "1.2.0"
  }
 },
 "nbformat": 4,
 "nbformat_minor": 4
}
