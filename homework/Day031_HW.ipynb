{
 "cells": [
  {
   "cell_type": "markdown",
   "metadata": {},
   "source": [
    "# Julia 深度學習：可微分程式設計\n",
    "\n",
    "## 作業 031：對神經網路層微分\n",
    "\n",
    "請自行撰寫一個型別，型別代表神經網路的一層運算，並且對它微分。神經網路層的一般式如下：\n",
    "\n",
    "$$\n",
    "y = \\sigma (Wx + b)\n",
    "$$\n",
    "\n",
    "其中 `W` 為參數矩陣，`b` 為參數向量，`x` 為輸入向量，`y` 為輸出向量。要取得向量的微分值，需要將向量縮減為純量，如下：\n",
    "\n",
    "```\n",
    "gradient(x -> sum(y), 1)\n",
    "```"
   ]
  },
  {
   "cell_type": "code",
   "execution_count": 1,
   "metadata": {},
   "outputs": [
    {
     "name": "stderr",
     "output_type": "stream",
     "text": [
      "\u001b[32m\u001b[1m Activating\u001b[22m\u001b[39m environment at `C:\\Users\\sciph\\.julia\\environments\\FluxML\\Project.toml`\n"
     ]
    }
   ],
   "source": [
    "@activate FluxML\n",
    "using Zygote"
   ]
  },
  {
   "cell_type": "code",
   "execution_count": 2,
   "metadata": {},
   "outputs": [],
   "source": [
    "import Zygote: gradient"
   ]
  },
  {
   "cell_type": "code",
   "execution_count": 3,
   "metadata": {},
   "outputs": [],
   "source": [
    "mutable struct layer{T<:Number,S<:Number}\n",
    "    W::Array{T,2} \n",
    "    b::Array{S,1}\n",
    "    σ\n",
    "end"
   ]
  },
  {
   "cell_type": "code",
   "execution_count": 4,
   "metadata": {},
   "outputs": [
    {
     "data": {
      "text/plain": [
       "foo (generic function with 1 method)"
      ]
     },
     "execution_count": 4,
     "metadata": {},
     "output_type": "execute_result"
    }
   ],
   "source": [
    "function foo(layer::layer,x::Array{S,1})where{S<:Number}\n",
    "    return layer.σ.(layer.W*x+layer.b)\n",
    "end"
   ]
  },
  {
   "cell_type": "code",
   "execution_count": 5,
   "metadata": {},
   "outputs": [
    {
     "data": {
      "text/plain": [
       "gradient (generic function with 2 methods)"
      ]
     },
     "execution_count": 5,
     "metadata": {},
     "output_type": "execute_result"
    }
   ],
   "source": [
    "function gradient(layer::layer,x::Array{S,1})where{S<:Number}\n",
    "    vcat([transpose(gradient(x->foo(layer,x)[i],x)[1]) for i in 1:size(layer.b)[1]]...)\n",
    "end"
   ]
  },
  {
   "cell_type": "code",
   "execution_count": 6,
   "metadata": {},
   "outputs": [
    {
     "data": {
      "text/plain": [
       "100-element Array{Float64,1}:\n",
       "  0.954743966615367\n",
       "  1.0529182504830343\n",
       "  1.4086589679260997\n",
       "  0.13494519018767134\n",
       "  0.02344329535733279\n",
       " -1.215913992026146\n",
       " -2.5232822210156853\n",
       " -0.5719206634260796\n",
       "  0.2980650413262414\n",
       "  0.7973014978667777\n",
       " -0.28676968009782866\n",
       "  0.005996500447718199\n",
       "  0.8635651224718351\n",
       "  ⋮\n",
       " -0.50176087058013\n",
       "  0.9827305476886341\n",
       " -1.4940691995970776\n",
       "  0.021941246145181476\n",
       " -0.26646683280370764\n",
       "  1.6881040661323916\n",
       "  1.1231697023016776\n",
       "  0.9551178484014333\n",
       " -0.3272539499993702\n",
       " -0.42505944733600765\n",
       "  0.3832155942900584\n",
       "  2.3751909795121655"
      ]
     },
     "execution_count": 6,
     "metadata": {},
     "output_type": "execute_result"
    }
   ],
   "source": [
    "x = randn(100)"
   ]
  },
  {
   "cell_type": "code",
   "execution_count": 7,
   "metadata": {},
   "outputs": [
    {
     "data": {
      "text/plain": [
       "layer{Float64,Float64}([1.1627806165199324 -0.34696797066168317 … 0.03096849582798312 -1.0833631556936316; -0.3091648158065033 -0.10627710049179727 … 0.2511043779054771 1.0229516800589076; … ; 1.4689419502481953 0.4459097493338951 … -0.10498126410629664 -0.033142894992698624; 1.790285582270284 -0.5000967073535502 … -0.2718662000083928 -0.29109313373582374], [-0.3834252101035931, -0.3292786203110178, 0.18468932605924018, 0.6233614451920001, 0.07158662544689375, -1.5599542593018128, -0.4983846974726316, -0.4987530779972311, -3.4006645870689276, -0.5670560153336399], var\"#13#14\"())"
      ]
     },
     "execution_count": 7,
     "metadata": {},
     "output_type": "execute_result"
    }
   ],
   "source": [
    "l = layer(randn(10,100),randn(10),x->1/(1+exp(-x)))"
   ]
  },
  {
   "cell_type": "code",
   "execution_count": 8,
   "metadata": {},
   "outputs": [
    {
     "data": {
      "text/plain": [
       "10×100 Array{Float64,2}:\n",
       "  0.197061     -0.0588019    -0.0730732    …   0.00524834   -0.183601\n",
       " -0.0295892    -0.0101715     0.0313741        0.0240325     0.0979037\n",
       " -0.037566      0.0371253    -0.0283772        0.00506677   -0.0197783\n",
       " -3.61163e-9   -9.53724e-10   9.03396e-10     -7.63896e-10  -1.95676e-9\n",
       " -0.0941007     0.0681897     0.000393881      0.117247      0.0100228\n",
       " -0.0261115    -0.0198528     0.0376667    …  -0.0328687    -0.0257308\n",
       "  2.21281e-6   -3.76591e-7    3.80384e-6      -1.25089e-6    3.08053e-7\n",
       "  0.000436785   1.57039e-5    0.000875789     -6.32853e-5    0.000143895\n",
       "  0.242079      0.073485      0.00697915      -0.0173007    -0.00546188\n",
       "  0.383694     -0.107181      0.225418        -0.0582664    -0.0623871"
      ]
     },
     "execution_count": 8,
     "metadata": {},
     "output_type": "execute_result"
    }
   ],
   "source": [
    "gradient(l,x)"
   ]
  },
  {
   "cell_type": "code",
   "execution_count": null,
   "metadata": {},
   "outputs": [],
   "source": []
  }
 ],
 "metadata": {
  "kernelspec": {
   "display_name": "Julia 1.4.1",
   "language": "julia",
   "name": "julia-1.4"
  },
  "language_info": {
   "file_extension": ".jl",
   "mimetype": "application/julia",
   "name": "julia",
   "version": "1.4.1"
  }
 },
 "nbformat": 4,
 "nbformat_minor": 4
}
